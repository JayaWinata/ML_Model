{
 "cells": [
  {
   "cell_type": "markdown",
   "metadata": {},
   "source": [
    "# K-Nearest Neighbors\n",
    "\n",
    "K-Nearest Neighbors (K-NN) is a simple and intuitive machine learning algorithm used for classification and regression tasks. It's a non-parametric, instance-based learning algorithm that makes predictions based on the majority class or the average of the nearest data points in the feature space. K-NN is particularly useful for cases where data points have clear spatial or similarity relationships."
   ]
  },
  {
   "cell_type": "code",
   "execution_count": 8,
   "metadata": {},
   "outputs": [],
   "source": [
    "from sklearn.datasets import load_digits\n",
    "from sklearn.neighbors import KNeighborsClassifier\n",
    "from sklearn.model_selection import GridSearchCV, train_test_split\n",
    "import pandas as pd"
   ]
  },
  {
   "cell_type": "code",
   "execution_count": 9,
   "metadata": {},
   "outputs": [
    {
     "data": {
      "text/html": [
       "<div>\n",
       "<style scoped>\n",
       "    .dataframe tbody tr th:only-of-type {\n",
       "        vertical-align: middle;\n",
       "    }\n",
       "\n",
       "    .dataframe tbody tr th {\n",
       "        vertical-align: top;\n",
       "    }\n",
       "\n",
       "    .dataframe thead th {\n",
       "        text-align: right;\n",
       "    }\n",
       "</style>\n",
       "<table border=\"1\" class=\"dataframe\">\n",
       "  <thead>\n",
       "    <tr style=\"text-align: right;\">\n",
       "      <th></th>\n",
       "      <th>mean_fit_time</th>\n",
       "      <th>std_fit_time</th>\n",
       "      <th>mean_score_time</th>\n",
       "      <th>std_score_time</th>\n",
       "      <th>param_n_neighbors</th>\n",
       "      <th>params</th>\n",
       "      <th>split0_test_score</th>\n",
       "      <th>split1_test_score</th>\n",
       "      <th>split2_test_score</th>\n",
       "      <th>split3_test_score</th>\n",
       "      <th>split4_test_score</th>\n",
       "      <th>mean_test_score</th>\n",
       "      <th>std_test_score</th>\n",
       "      <th>rank_test_score</th>\n",
       "    </tr>\n",
       "  </thead>\n",
       "  <tbody>\n",
       "    <tr>\n",
       "      <th>0</th>\n",
       "      <td>0.000823</td>\n",
       "      <td>0.000786</td>\n",
       "      <td>0.003248</td>\n",
       "      <td>0.001167</td>\n",
       "      <td>3</td>\n",
       "      <td>{'n_neighbors': 3}</td>\n",
       "      <td>0.988889</td>\n",
       "      <td>0.992593</td>\n",
       "      <td>0.985130</td>\n",
       "      <td>0.973978</td>\n",
       "      <td>0.992565</td>\n",
       "      <td>0.986631</td>\n",
       "      <td>0.006902</td>\n",
       "      <td>1</td>\n",
       "    </tr>\n",
       "    <tr>\n",
       "      <th>1</th>\n",
       "      <td>0.000799</td>\n",
       "      <td>0.000399</td>\n",
       "      <td>0.002522</td>\n",
       "      <td>0.000475</td>\n",
       "      <td>4</td>\n",
       "      <td>{'n_neighbors': 4}</td>\n",
       "      <td>0.996296</td>\n",
       "      <td>0.988889</td>\n",
       "      <td>0.973978</td>\n",
       "      <td>0.970260</td>\n",
       "      <td>0.992565</td>\n",
       "      <td>0.984398</td>\n",
       "      <td>0.010362</td>\n",
       "      <td>2</td>\n",
       "    </tr>\n",
       "    <tr>\n",
       "      <th>2</th>\n",
       "      <td>0.001203</td>\n",
       "      <td>0.000417</td>\n",
       "      <td>0.003182</td>\n",
       "      <td>0.000413</td>\n",
       "      <td>5</td>\n",
       "      <td>{'n_neighbors': 5}</td>\n",
       "      <td>0.988889</td>\n",
       "      <td>0.988889</td>\n",
       "      <td>0.973978</td>\n",
       "      <td>0.970260</td>\n",
       "      <td>0.992565</td>\n",
       "      <td>0.982916</td>\n",
       "      <td>0.008995</td>\n",
       "      <td>3</td>\n",
       "    </tr>\n",
       "  </tbody>\n",
       "</table>\n",
       "</div>"
      ],
      "text/plain": [
       "   mean_fit_time  std_fit_time  mean_score_time  std_score_time   \n",
       "0       0.000823      0.000786         0.003248        0.001167  \\\n",
       "1       0.000799      0.000399         0.002522        0.000475   \n",
       "2       0.001203      0.000417         0.003182        0.000413   \n",
       "\n",
       "  param_n_neighbors              params  split0_test_score  split1_test_score   \n",
       "0                 3  {'n_neighbors': 3}           0.988889           0.992593  \\\n",
       "1                 4  {'n_neighbors': 4}           0.996296           0.988889   \n",
       "2                 5  {'n_neighbors': 5}           0.988889           0.988889   \n",
       "\n",
       "   split2_test_score  split3_test_score  split4_test_score  mean_test_score   \n",
       "0           0.985130           0.973978           0.992565         0.986631  \\\n",
       "1           0.973978           0.970260           0.992565         0.984398   \n",
       "2           0.973978           0.970260           0.992565         0.982916   \n",
       "\n",
       "   std_test_score  rank_test_score  \n",
       "0        0.006902                1  \n",
       "1        0.010362                2  \n",
       "2        0.008995                3  "
      ]
     },
     "execution_count": 9,
     "metadata": {},
     "output_type": "execute_result"
    }
   ],
   "source": [
    "digits = load_digits()\n",
    "clf = GridSearchCV(KNeighborsClassifier(),{\n",
    "    'n_neighbors':[3,4,5]\n",
    "})\n",
    "x_train, x_test, y_train, y_test = train_test_split(digits.data,digits.target)\n",
    "clf.fit(x_train,y_train)\n",
    "scores = pd.DataFrame(clf.cv_results_)\n",
    "scores"
   ]
  },
  {
   "cell_type": "code",
   "execution_count": 11,
   "metadata": {},
   "outputs": [
    {
     "data": {
      "text/plain": [
       "0.9777777777777777"
      ]
     },
     "execution_count": 11,
     "metadata": {},
     "output_type": "execute_result"
    }
   ],
   "source": [
    "clf.score(x_test,y_test)"
   ]
  },
  {
   "cell_type": "code",
   "execution_count": 10,
   "metadata": {},
   "outputs": [
    {
     "data": {
      "text/plain": [
       "0.9777777777777777"
      ]
     },
     "execution_count": 10,
     "metadata": {},
     "output_type": "execute_result"
    }
   ],
   "source": [
    "model = KNeighborsClassifier(n_neighbors=3)\n",
    "model.fit(x_train,y_train)\n",
    "y_pred = model.predict(x_test)\n",
    "model.score(x_test,y_test)"
   ]
  },
  {
   "cell_type": "code",
   "execution_count": 17,
   "metadata": {},
   "outputs": [],
   "source": [
    "import seaborn as sns\n",
    "from sklearn.metrics import confusion_matrix, classification_report"
   ]
  },
  {
   "cell_type": "code",
   "execution_count": 16,
   "metadata": {},
   "outputs": [
    {
     "data": {
      "text/plain": [
       "<Axes: >"
      ]
     },
     "execution_count": 16,
     "metadata": {},
     "output_type": "execute_result"
    },
    {
     "data": {
      "image/png": "[encoded data removed]",
      "text/plain": [
       "<Figure size 640x480 with 2 Axes>"
      ]
     },
     "metadata": {},
     "output_type": "display_data"
    }
   ],
   "source": [
    "sns.heatmap(confusion_matrix(y_test,y_pred),annot=True)"
   ]
  },
  {
   "cell_type": "code",
   "execution_count": 19,
   "metadata": {},
   "outputs": [
    {
     "name": "stdout",
     "output_type": "stream",
     "text": [
      "              precision    recall  f1-score   support\n",
      "\n",
      "           0       1.00      1.00      1.00        39\n",
      "           1       0.95      1.00      0.97        54\n",
      "           2       1.00      1.00      1.00        44\n",
      "           3       1.00      0.98      0.99        46\n",
      "           4       0.98      1.00      0.99        53\n",
      "           5       0.98      1.00      0.99        41\n",
      "           6       0.98      1.00      0.99        42\n",
      "           7       1.00      0.98      0.99        43\n",
      "           8       0.95      0.91      0.93        45\n",
      "           9       0.95      0.91      0.93        43\n",
      "\n",
      "    accuracy                           0.98       450\n",
      "   macro avg       0.98      0.98      0.98       450\n",
      "weighted avg       0.98      0.98      0.98       450\n",
      "\n"
     ]
    }
   ],
   "source": [
    "print(classification_report(y_test,y_pred))"
   ]
  }
 ],
 "metadata": {
  "kernelspec": {
   "display_name": "Python 3",
   "language": "python",
   "name": "python3"
  },
  "language_info": {
   "codemirror_mode": {
    "name": "ipython",
    "version": 3
   },
   "file_extension": ".py",
   "mimetype": "text/x-python",
   "name": "python",
   "nbconvert_exporter": "python",
   "pygments_lexer": "ipython3",
   "version": "3.10.11"
  },
  "orig_nbformat": 4
 },
 "nbformat": 4,
 "nbformat_minor": 2
}
